{
 "cells": [
  {
   "cell_type": "markdown",
   "id": "c85767fc-13e6-4cd1-a71c-f8c94e86e545",
   "metadata": {
    "tags": []
   },
   "source": [
    "# Data Science Tolls and Ecosystem"
   ]
  },
  {
   "cell_type": "markdown",
   "id": "78c2f2b8-5e40-4eac-b81f-1dc9620e1f04",
   "metadata": {},
   "source": [
    "In this notebook, Data Science Tools and Ecosystem are summarized."
   ]
  },
  {
   "cell_type": "markdown",
   "id": "64a68167-58a3-43eb-b25f-a0607882f151",
   "metadata": {},
   "source": [
    "**Objectives:**\n",
    "* Popular languages for that science,\n",
    "* IDE,\n",
    "* Aritmetic expressions in Python,"
   ]
  },
  {
   "cell_type": "markdown",
   "id": "39c3e987-f057-44fc-8a63-9b8f92ba18f5",
   "metadata": {},
   "source": [
    "Some of the popular languages that Data Scientists use are:\n",
    "1. python,\n",
    "2. julia,\n",
    "3. R, \n",
    "4. M, \n",
    "5. Ruby,"
   ]
  },
  {
   "cell_type": "markdown",
   "id": "411b3552-34af-4399-8c11-9434d325d634",
   "metadata": {},
   "source": [
    "Some of the commonly used libraries used by Data Scientists include:\n",
    "1. NumPy\n",
    "2. Pandas\n",
    "3. PyTorch"
   ]
  },
  {
   "cell_type": "markdown",
   "id": "fb12b9f5-9fda-40b6-8f5f-f0642f7461b5",
   "metadata": {},
   "source": [
    "|Data Science tools|\n",
    "-------------------\n",
    "|JupyterLab Notebook|\n",
    "|Spyder|\n",
    "|Visual Studio|"
   ]
  },
  {
   "cell_type": "markdown",
   "id": "e3c3b379-a2fa-4ce1-aa33-6abfce9e9644",
   "metadata": {},
   "source": [
    "### Below are a few examples of evaluating arithmetic expressions in Python:\n",
    "1. x % y\n",
    "2. x // y\n",
    "3.x / y"
   ]
  },
  {
   "cell_type": "code",
   "execution_count": 2,
   "id": "4f3d718c-b8f8-450e-b884-f2701dc47e99",
   "metadata": {},
   "outputs": [
    {
     "data": {
      "text/plain": [
       "3.3333333333333335"
      ]
     },
     "execution_count": 2,
     "metadata": {},
     "output_type": "execute_result"
    }
   ],
   "source": [
    "# This will convert 200 minutes to hours by diving by 60\n",
    "200/60"
   ]
  },
  {
   "cell_type": "code",
   "execution_count": 1,
   "id": "3fcaaa14-f8db-45e0-8dac-b305cc3592d5",
   "metadata": {},
   "outputs": [
    {
     "data": {
      "text/plain": [
       "17"
      ]
     },
     "execution_count": 1,
     "metadata": {},
     "output_type": "execute_result"
    }
   ],
   "source": [
    "# This a simple arithmetic expression to mutiply then add integers\n",
    "(3*4)+5"
   ]
  },
  {
   "cell_type": "markdown",
   "id": "26f9a29c-1141-4ce7-9a53-1d96e2bbf4ef",
   "metadata": {},
   "source": [
    "**Author:\n",
    "Michał"
   ]
  }
 ],
 "metadata": {
  "kernelspec": {
   "display_name": "Python",
   "language": "python",
   "name": "conda-env-python-py"
  },
  "language_info": {
   "codemirror_mode": {
    "name": "ipython",
    "version": 3
   },
   "file_extension": ".py",
   "mimetype": "text/x-python",
   "name": "python",
   "nbconvert_exporter": "python",
   "pygments_lexer": "ipython3",
   "version": "3.7.12"
  }
 },
 "nbformat": 4,
 "nbformat_minor": 5
}
